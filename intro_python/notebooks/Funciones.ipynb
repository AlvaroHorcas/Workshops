{
 "cells": [
  {
   "cell_type": "code",
   "execution_count": 1,
   "metadata": {
    "collapsed": true
   },
   "outputs": [],
   "source": [
    "def algo():\n",
    "    pass"
   ]
  },
  {
   "cell_type": "code",
   "execution_count": 5,
   "metadata": {
    "collapsed": false
   },
   "outputs": [
    {
     "name": "stdout",
     "output_type": "stream",
     "text": [
      "<function algo at 0x7fe957ac79d8>\n",
      "True\n"
     ]
    }
   ],
   "source": [
    "def algo():\n",
    "    return True\n",
    "\n",
    "print(algo)\n",
    "print(algo())"
   ]
  },
  {
   "cell_type": "code",
   "execution_count": 6,
   "metadata": {
    "collapsed": false
   },
   "outputs": [
    {
     "name": "stdout",
     "output_type": "stream",
     "text": [
      "True\n",
      "False\n"
     ]
    }
   ],
   "source": [
    "def algo(x=True):\n",
    "    return x\n",
    "\n",
    "print(algo())\n",
    "print(algo(False))"
   ]
  },
  {
   "cell_type": "code",
   "execution_count": 7,
   "metadata": {
    "collapsed": false
   },
   "outputs": [
    {
     "name": "stdout",
     "output_type": "stream",
     "text": [
      "4.0\n",
      "40\n"
     ]
    }
   ],
   "source": [
    "def sumscal(x, y, c=1.0):\n",
    "    return c*(x + y)\n",
    "\n",
    "print(sumscal(2,2))\n",
    "print(sumscal(2,2,10))"
   ]
  },
  {
   "cell_type": "code",
   "execution_count": 8,
   "metadata": {
    "collapsed": false
   },
   "outputs": [
    {
     "name": "stdout",
     "output_type": "stream",
     "text": [
      "Help on function sumscal in module __main__:\n",
      "\n",
      "sumscal(x, y, c=1.0)\n",
      "    Returns the scaled sum\n",
      "    \n",
      "    x: First argument\n",
      "    y: Second argument\n",
      "    c (optional): Scaling value\n",
      "    \n",
      "    returns: Scaled sum\n",
      "\n"
     ]
    }
   ],
   "source": [
    "def sumscal(x, y, c=1.0):\n",
    "    \"\"\"\n",
    "    Returns the scaled sum\n",
    "    \n",
    "    x: First argument\n",
    "    y: Second argument\n",
    "    c (optional): Scaling value\n",
    "    \n",
    "    returns: Scaled sum\n",
    "    \"\"\"\n",
    "    return c*(x + y)\n",
    "\n",
    "help(sumscal)"
   ]
  },
  {
   "cell_type": "code",
   "execution_count": 11,
   "metadata": {
    "collapsed": false
   },
   "outputs": [
    {
     "name": "stdout",
     "output_type": "stream",
     "text": [
      "Help on function sumscal in module __main__:\n",
      "\n",
      "sumscal(x:float, y:float, c:float=1.0) -> float\n",
      "    Returns the scaled sum\n",
      "    \n",
      "    x: First argument\n",
      "    y: Second argument\n",
      "    c (optional): Scaling value\n",
      "    \n",
      "    returns: scaled sum value\n",
      "\n"
     ]
    }
   ],
   "source": [
    "def sumscal(x: float, y: float, c: float=1.0) -> float:\n",
    "    \"\"\"\n",
    "    Returns the scaled sum\n",
    "    \n",
    "    x: First argument\n",
    "    y: Second argument\n",
    "    c (optional): Scaling value\n",
    "    \n",
    "    returns: scaled sum value\n",
    "    \"\"\"\n",
    "    return c*(x + y)\n",
    "\n",
    "help(sumscal)"
   ]
  },
  {
   "cell_type": "code",
   "execution_count": 12,
   "metadata": {
    "collapsed": false
   },
   "outputs": [
    {
     "data": {
      "text/plain": [
       "'abab'"
      ]
     },
     "execution_count": 12,
     "metadata": {},
     "output_type": "execute_result"
    }
   ],
   "source": [
    "sumscal('a', 'b', 2)"
   ]
  },
  {
   "cell_type": "code",
   "execution_count": null,
   "metadata": {
    "collapsed": true
   },
   "outputs": [],
   "source": []
  }
 ],
 "metadata": {
  "kernelspec": {
   "display_name": "Python 3",
   "language": "python",
   "name": "python3"
  },
  "language_info": {
   "codemirror_mode": {
    "name": "ipython",
    "version": 3
   },
   "file_extension": ".py",
   "mimetype": "text/x-python",
   "name": "python",
   "nbconvert_exporter": "python",
   "pygments_lexer": "ipython3",
   "version": "3.4.2"
  }
 },
 "nbformat": 4,
 "nbformat_minor": 1
}
