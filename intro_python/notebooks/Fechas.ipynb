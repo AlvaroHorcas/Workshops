{
 "cells": [
  {
   "cell_type": "markdown",
   "metadata": {},
   "source": [
    "La librería estándar de Python incluye datetime, con tipos específicos para almacenar fechas y tiempos. Están pensados para ser versátiles, pero no son especialmente rápidos"
   ]
  },
  {
   "cell_type": "code",
   "execution_count": 1,
   "metadata": {
    "collapsed": false
   },
   "outputs": [
    {
     "name": "stdout",
     "output_type": "stream",
     "text": [
      "2016-12-22\n"
     ]
    }
   ],
   "source": [
    "from datetime import date, datetime, timedelta\n",
    "\n",
    "today = date.today()\n",
    "print(today)"
   ]
  },
  {
   "cell_type": "markdown",
   "metadata": {},
   "source": [
    "El módulo para cálculo numérico numpy también incluye un tipo para almacenar fechas y tiempos. A diferencia de datetime, sí está pensado para ser eficiente."
   ]
  },
  {
   "cell_type": "code",
   "execution_count": 2,
   "metadata": {
    "collapsed": false
   },
   "outputs": [
    {
     "name": "stdout",
     "output_type": "stream",
     "text": [
      "2016-12-22\n"
     ]
    }
   ],
   "source": [
    "import numpy as np\n",
    "today_fast = np.datetime64(date.today())\n",
    "print(today_fast)"
   ]
  },
  {
   "cell_type": "markdown",
   "metadata": {},
   "source": [
    "Si comprobamos el tipo que almacena el array today_fast vemos que se trata de una cantidad de ocho bytes, y con la anotación D de día. Esta anotación es importante porque hay que tener en cuenta cómo se trata de manera interna el tiempo en numpy."
   ]
  },
  {
   "cell_type": "code",
   "execution_count": 4,
   "metadata": {
    "collapsed": false
   },
   "outputs": [
    {
     "name": "stdout",
     "output_type": "stream",
     "text": [
      "<class 'datetime.date'>\n",
      "datetime64[D]\n"
     ]
    }
   ],
   "source": [
    "print(type(today))\n",
    "print(today_fast.dtype)"
   ]
  },
  {
   "cell_type": "markdown",
   "metadata": {},
   "source": [
    "El tiempo es un número entero que empieza a contar el 1 de enero de 1970, pero depende de si contamos días, meses, horas o microsegundos. Por eso la anotación es importante. En el caso de today_fast, la fecha de hoy se almacena como los 17157 días que han trascurrido desde la fecha de referencia."
   ]
  },
  {
   "cell_type": "code",
   "execution_count": 5,
   "metadata": {
    "collapsed": false
   },
   "outputs": [
    {
     "data": {
      "text/plain": [
       "17157"
      ]
     },
     "execution_count": 5,
     "metadata": {},
     "output_type": "execute_result"
    }
   ],
   "source": [
    "today_fast.astype(np.int)"
   ]
  },
  {
   "cell_type": "markdown",
   "metadata": {},
   "source": [
    "Pero, como se ha dicho justo antes, no es lo mismo contar días que microsegundos. Si traducimos un datetime a datetime64 precisamente obtenemos un tiempo con precisión de microsegundos"
   ]
  },
  {
   "cell_type": "code",
   "execution_count": 6,
   "metadata": {
    "collapsed": false
   },
   "outputs": [
    {
     "data": {
      "text/plain": [
       "dtype('<M8[us]')"
      ]
     },
     "execution_count": 6,
     "metadata": {},
     "output_type": "execute_result"
    }
   ],
   "source": [
    "now_fast = np.datetime64(datetime.now())\n",
    "now_fast.dtype"
   ]
  },
  {
   "cell_type": "markdown",
   "metadata": {},
   "source": [
    "Podemos hacer operaciones aritméticas entre dos tipos temporales con distintas precisiones, y la maquinaria interna de numpy se encargará de hacer las promociones de tipo correspondientes"
   ]
  },
  {
   "cell_type": "code",
   "execution_count": 14,
   "metadata": {
    "collapsed": false
   },
   "outputs": [
    {
     "name": "stdout",
     "output_type": "stream",
     "text": [
      "2016-12-22\n",
      "2016-12-22T16:44:23.889877\n",
      "-60263889877 microseconds\n",
      "1482425063889877\n",
      "17157\n",
      "2016-12\n"
     ]
    }
   ],
   "source": [
    "print(today_fast)\n",
    "print(now_fast)\n",
    "print(today_fast - now_fast)\n",
    "print(now_fast.astype(np.int))\n",
    "print(today_fast.astype(np.int))\n",
    "print(now_fast.astype('datetime64[M]'))"
   ]
  },
  {
   "cell_type": "markdown",
   "metadata": {},
   "source": [
    "Pero lo correcto es hacer la conversión de la precisión de la cantidad temporal de manera manual para así asegurarnos que se trata de una resta de días con días."
   ]
  },
  {
   "cell_type": "code",
   "execution_count": 15,
   "metadata": {
    "collapsed": false
   },
   "outputs": [
    {
     "name": "stdout",
     "output_type": "stream",
     "text": [
      "0 days\n"
     ]
    }
   ],
   "source": [
    "print(today_fast - now_fast.astype('datetime64[D]'))"
   ]
  },
  {
   "cell_type": "markdown",
   "metadata": {},
   "source": [
    "Algunas de las funciones de numpy, como arange, están también preparadas para trabajar con fechas de cualquier precisión"
   ]
  },
  {
   "cell_type": "code",
   "execution_count": 18,
   "metadata": {
    "collapsed": false
   },
   "outputs": [
    {
     "name": "stdout",
     "output_type": "stream",
     "text": [
      "['2000-01-01' '2000-01-03' '2000-01-05' ..., '2016-12-16' '2016-12-18'\n",
      " '2016-12-20']\n",
      "(6200,)\n"
     ]
    }
   ],
   "source": [
    "a = np.arange('2000-01-01',date.today(), dtype=np.datetime64)\n",
    "\n",
    "print(a[::2])\n",
    "print(a.shape)"
   ]
  },
  {
   "cell_type": "code",
   "execution_count": 40,
   "metadata": {
    "collapsed": false
   },
   "outputs": [
    {
     "data": {
      "text/plain": [
       "dtype('<M8[M]')"
      ]
     },
     "execution_count": 40,
     "metadata": {},
     "output_type": "execute_result"
    }
   ],
   "source": [
    "b = np.arange('2015-01', '2016-01', dtype=np.datetime64)\n",
    "b.dtype"
   ]
  },
  {
   "cell_type": "markdown",
   "metadata": {},
   "source": [
    "Otra vez, las fechas dependen de la precisión. No es lo mismo contar días que contar meses "
   ]
  },
  {
   "cell_type": "code",
   "execution_count": 11,
   "metadata": {
    "collapsed": false
   },
   "outputs": [
    {
     "data": {
      "text/plain": [
       "array([540, 541, 542, 543, 544, 545, 546, 547, 548, 549, 550, 551])"
      ]
     },
     "execution_count": 11,
     "metadata": {},
     "output_type": "execute_result"
    }
   ],
   "source": [
    "b.astype(np.int)"
   ]
  },
  {
   "cell_type": "markdown",
   "metadata": {},
   "source": [
    "El motivo por el que debemos utilizar datetime64 en vez de datetime o date es que el primero es significativamente más rápido en los cálculos y más eficiente en memoria. El ejemplo siguiente toma el rango de más de 6000 fechas y le resta la primera. En el caso de datetime64, como se trata de una operación aritmética soportada por los arrays de este tipo, basta con hacer la resta del array por el escalar del primer elemento"
   ]
  },
  {
   "cell_type": "code",
   "execution_count": 19,
   "metadata": {
    "collapsed": false
   },
   "outputs": [
    {
     "name": "stdout",
     "output_type": "stream",
     "text": [
      "The slowest run took 10.83 times longer than the fastest. This could mean that an intermediate result is being cached.\n",
      "100000 loops, best of 3: 8.42 µs per loop\n"
     ]
    }
   ],
   "source": [
    "%timeit t = a - a[0]"
   ]
  },
  {
   "cell_type": "markdown",
   "metadata": {},
   "source": [
    "Podemos hacer el mismo cálculo utilizando una lista que contiene fechas de la librería estándar. Esta celda contiene el código que corresponde a la creación de la lista"
   ]
  },
  {
   "cell_type": "code",
   "execution_count": 21,
   "metadata": {
    "collapsed": false
   },
   "outputs": [
    {
     "name": "stdout",
     "output_type": "stream",
     "text": [
      "6199\n"
     ]
    }
   ],
   "source": [
    "alist = [date(2015,1,1)]\n",
    "\n",
    "for d in range(6198):\n",
    "    alist.append(alist[-1] + timedelta(days=1))\n",
    "    \n",
    "print(len(alist))"
   ]
  },
  {
   "cell_type": "markdown",
   "metadata": {},
   "source": [
    "Lo que vemos a continuación es que el tiempo de ejecución pasa de unos cuantos microsegundos a más de medio milisegundo, lo que corresponde a un speedup de dos órdenes de magnitud. Esto dejando de lado la mayor eficiencia en memoria al almacenar un entero en vez de un objeto."
   ]
  },
  {
   "cell_type": "code",
   "execution_count": 22,
   "metadata": {
    "collapsed": false
   },
   "outputs": [
    {
     "name": "stdout",
     "output_type": "stream",
     "text": [
      "The slowest run took 5.06 times longer than the fastest. This could mean that an intermediate result is being cached.\n",
      "1000 loops, best of 3: 633 µs per loop\n"
     ]
    }
   ],
   "source": [
    "%timeit t = [d-alist[0] for d in alist]"
   ]
  },
  {
   "cell_type": "markdown",
   "metadata": {},
   "source": [
    "También podemos encontrar el tipo datetime64 de numpy dentro de Pandas."
   ]
  },
  {
   "cell_type": "code",
   "execution_count": 25,
   "metadata": {
    "collapsed": false
   },
   "outputs": [
    {
     "data": {
      "text/plain": [
       "990225"
      ]
     },
     "execution_count": 25,
     "metadata": {},
     "output_type": "execute_result"
    }
   ],
   "source": [
    "import pandas as pd\n",
    "data = pd.read_csv('data/pollution_data.csv')\n",
    "len(data)"
   ]
  },
  {
   "cell_type": "markdown",
   "metadata": {},
   "source": [
    "Al importar los datos vemos primero comprobamos que la función que lee el csv no ha traducido las fechas al tipo que queremos, que es el datetime64 "
   ]
  },
  {
   "cell_type": "code",
   "execution_count": 26,
   "metadata": {
    "collapsed": false
   },
   "outputs": [
    {
     "data": {
      "text/plain": [
       "dtype('O')"
      ]
     },
     "execution_count": 26,
     "metadata": {},
     "output_type": "execute_result"
    }
   ],
   "source": [
    "data.when.dtype"
   ]
  },
  {
   "cell_type": "markdown",
   "metadata": {},
   "source": [
    "Pero es algo que podemos subsanar de manera muy sencilla con la función to_datetime para transformar esos datos a un tiepo expresado en nanosegundos"
   ]
  },
  {
   "cell_type": "code",
   "execution_count": 27,
   "metadata": {
    "collapsed": false
   },
   "outputs": [
    {
     "data": {
      "text/plain": [
       "dtype('<M8[ns]')"
      ]
     },
     "execution_count": 27,
     "metadata": {},
     "output_type": "execute_result"
    }
   ],
   "source": [
    "data.when = pd.to_datetime(data.when)\n",
    "data.when.dtype"
   ]
  },
  {
   "cell_type": "code",
   "execution_count": 28,
   "metadata": {
    "collapsed": false
   },
   "outputs": [],
   "source": [
    "dates = np.unique(data.when.values)\n",
    "dates = dates.astype('datetime64[D]')"
   ]
  },
  {
   "cell_type": "code",
   "execution_count": 29,
   "metadata": {
    "collapsed": false
   },
   "outputs": [
    {
     "name": "stdout",
     "output_type": "stream",
     "text": [
      "5629\n",
      "4021\n",
      "3217\n",
      "[3950 3950 3950 3950 3950 3950 3950 3950 3950 3950 3950 3950 3950 3950 3950\n",
      " 3950 3950 3950 3950 3950 3950 3950 3950 3950 3950 3950 3950 3950 3950 3950\n",
      " 3950 3950 3950 3950 3950 3950 3950 3950 3950 3950 3950 3950 3950 3950 3950\n",
      " 3950 3950 3950 3950 3950 3950 3950 3950 3950 3950 3950 3950 3950 3950 3950\n",
      " 3950 3950 3950 3950 3950 3950 3950 3950 3950 3950 3950 3950 3950 3950 3950\n",
      " 3950 3950 3950 3950 3950 3950 3950 3950 3950 3950 3950 3950 3950 3950 3950\n",
      " 3950 3950 3950 3950 3950 3950 3950 3950 3950 3950]\n"
     ]
    }
   ],
   "source": [
    "print(len(dates))\n",
    "print(np.busday_count(dates[0], dates[-1]))\n",
    "print(np.busday_count(dates[0], dates[-1], weekmask='1111000'))\n",
    "print(np.busday_count(dates[:100], dates[-100:]))"
   ]
  },
  {
   "cell_type": "code",
   "execution_count": 41,
   "metadata": {
    "collapsed": true
   },
   "outputs": [],
   "source": [
    "np.busday_offset?"
   ]
  },
  {
   "cell_type": "code",
   "execution_count": 37,
   "metadata": {
    "collapsed": false
   },
   "outputs": [
    {
     "data": {
      "text/plain": [
       "array(['2001-02-13', '2001-02-13', '2001-02-14', '2001-02-15',\n",
       "       '2001-02-16', '2001-02-19', '2001-02-19', '2001-02-19',\n",
       "       '2001-02-20', '2001-02-21'], dtype='datetime64[D]')"
      ]
     },
     "execution_count": 37,
     "metadata": {},
     "output_type": "execute_result"
    }
   ],
   "source": [
    "np.busday_offset(dates,\n",
    "                 30,\n",
    "                 roll=\"forward\",\n",
    "                 holidays=np.array(['2001-01-01'], dtype=np.datetime64)\n",
    "                )[:10]"
   ]
  },
  {
   "cell_type": "code",
   "execution_count": 38,
   "metadata": {
    "collapsed": false
   },
   "outputs": [
    {
     "name": "stdout",
     "output_type": "stream",
     "text": [
      "2015-01-01 2015-12-31\n",
      "3.0\n"
     ]
    }
   ],
   "source": [
    "from scipy import interpolate\n",
    "filtered = data[(data.when.dt.year == 2015) &\n",
    "                (data.station == 'Cuatro Caminos') &\n",
    "                (data.magnitude == 'SO2')]\n",
    "\n",
    "days = filtered.when.values.astype('datetime64[D]')\n",
    "print(days.min(), days.max())\n",
    "interpolator = interpolate.interp1d(days.astype(np.int), filtered.measurement)\n",
    "print(interpolator(np.datetime64('2015-05-04').astype(np.int)))"
   ]
  },
  {
   "cell_type": "code",
   "execution_count": 39,
   "metadata": {
    "collapsed": false
   },
   "outputs": [
    {
     "name": "stdout",
     "output_type": "stream",
     "text": [
      "5629\n",
      "The slowest run took 6.11 times longer than the fastest. This could mean that an intermediate result is being cached.\n",
      "10000 loops, best of 3: 64.7 µs per loop\n"
     ]
    }
   ],
   "source": [
    "print(len(dates))\n",
    "%timeit interpolator(days.astype(np.int))"
   ]
  },
  {
   "cell_type": "code",
   "execution_count": 40,
   "metadata": {
    "collapsed": false
   },
   "outputs": [
    {
     "data": {
      "application/javascript": [
       "/* Put everything inside the global mpl namespace */\n",
       "window.mpl = {};\n",
       "\n",
       "mpl.get_websocket_type = function() {\n",
       "    if (typeof(WebSocket) !== 'undefined') {\n",
       "        return WebSocket;\n",
       "    } else if (typeof(MozWebSocket) !== 'undefined') {\n",
       "        return MozWebSocket;\n",
       "    } else {\n",
       "        alert('Your browser does not have WebSocket support.' +\n",
       "              'Please try Chrome, Safari or Firefox ≥ 6. ' +\n",
       "              'Firefox 4 and 5 are also supported but you ' +\n",
       "              'have to enable WebSockets in about:config.');\n",
       "    };\n",
       "}\n",
       "\n",
       "mpl.figure = function(figure_id, websocket, ondownload, parent_element) {\n",
       "    this.id = figure_id;\n",
       "\n",
       "    this.ws = websocket;\n",
       "\n",
       "    this.supports_binary = (this.ws.binaryType != undefined);\n",
       "\n",
       "    if (!this.supports_binary) {\n",
       "        var warnings = document.getElementById(\"mpl-warnings\");\n",
       "        if (warnings) {\n",
       "            warnings.style.display = 'block';\n",
       "            warnings.textContent = (\n",
       "                \"This browser does not support binary websocket messages. \" +\n",
       "                    \"Performance may be slow.\");\n",
       "        }\n",
       "    }\n",
       "\n",
       "    this.imageObj = new Image();\n",
       "\n",
       "    this.context = undefined;\n",
       "    this.message = undefined;\n",
       "    this.canvas = undefined;\n",
       "    this.rubberband_canvas = undefined;\n",
       "    this.rubberband_context = undefined;\n",
       "    this.format_dropdown = undefined;\n",
       "\n",
       "    this.image_mode = 'full';\n",
       "\n",
       "    this.root = $('<div/>');\n",
       "    this._root_extra_style(this.root)\n",
       "    this.root.attr('style', 'display: inline-block');\n",
       "\n",
       "    $(parent_element).append(this.root);\n",
       "\n",
       "    this._init_header(this);\n",
       "    this._init_canvas(this);\n",
       "    this._init_toolbar(this);\n",
       "\n",
       "    var fig = this;\n",
       "\n",
       "    this.waiting = false;\n",
       "\n",
       "    this.ws.onopen =  function () {\n",
       "            fig.send_message(\"supports_binary\", {value: fig.supports_binary});\n",
       "            fig.send_message(\"send_image_mode\", {});\n",
       "            fig.send_message(\"refresh\", {});\n",
       "        }\n",
       "\n",
       "    this.imageObj.onload = function() {\n",
       "            if (fig.image_mode == 'full') {\n",
       "                // Full images could contain transparency (where diff images\n",
       "                // almost always do), so we need to clear the canvas so that\n",
       "                // there is no ghosting.\n",
       "                fig.context.clearRect(0, 0, fig.canvas.width, fig.canvas.height);\n",
       "            }\n",
       "            fig.context.drawImage(fig.imageObj, 0, 0);\n",
       "        };\n",
       "\n",
       "    this.imageObj.onunload = function() {\n",
       "        this.ws.close();\n",
       "    }\n",
       "\n",
       "    this.ws.onmessage = this._make_on_message_function(this);\n",
       "\n",
       "    this.ondownload = ondownload;\n",
       "}\n",
       "\n",
       "mpl.figure.prototype._init_header = function() {\n",
       "    var titlebar = $(\n",
       "        '<div class=\"ui-dialog-titlebar ui-widget-header ui-corner-all ' +\n",
       "        'ui-helper-clearfix\"/>');\n",
       "    var titletext = $(\n",
       "        '<div class=\"ui-dialog-title\" style=\"width: 100%; ' +\n",
       "        'text-align: center; padding: 3px;\"/>');\n",
       "    titlebar.append(titletext)\n",
       "    this.root.append(titlebar);\n",
       "    this.header = titletext[0];\n",
       "}\n",
       "\n",
       "\n",
       "\n",
       "mpl.figure.prototype._canvas_extra_style = function(canvas_div) {\n",
       "\n",
       "}\n",
       "\n",
       "\n",
       "mpl.figure.prototype._root_extra_style = function(canvas_div) {\n",
       "\n",
       "}\n",
       "\n",
       "mpl.figure.prototype._init_canvas = function() {\n",
       "    var fig = this;\n",
       "\n",
       "    var canvas_div = $('<div/>');\n",
       "\n",
       "    canvas_div.attr('style', 'position: relative; clear: both; outline: 0');\n",
       "\n",
       "    function canvas_keyboard_event(event) {\n",
       "        return fig.key_event(event, event['data']);\n",
       "    }\n",
       "\n",
       "    canvas_div.keydown('key_press', canvas_keyboard_event);\n",
       "    canvas_div.keyup('key_release', canvas_keyboard_event);\n",
       "    this.canvas_div = canvas_div\n",
       "    this._canvas_extra_style(canvas_div)\n",
       "    this.root.append(canvas_div);\n",
       "\n",
       "    var canvas = $('<canvas/>');\n",
       "    canvas.addClass('mpl-canvas');\n",
       "    canvas.attr('style', \"left: 0; top: 0; z-index: 0; outline: 0\")\n",
       "\n",
       "    this.canvas = canvas[0];\n",
       "    this.context = canvas[0].getContext(\"2d\");\n",
       "\n",
       "    var rubberband = $('<canvas/>');\n",
       "    rubberband.attr('style', \"position: absolute; left: 0; top: 0; z-index: 1;\")\n",
       "\n",
       "    var pass_mouse_events = true;\n",
       "\n",
       "    canvas_div.resizable({\n",
       "        start: function(event, ui) {\n",
       "            pass_mouse_events = false;\n",
       "        },\n",
       "        resize: function(event, ui) {\n",
       "            fig.request_resize(ui.size.width, ui.size.height);\n",
       "        },\n",
       "        stop: function(event, ui) {\n",
       "            pass_mouse_events = true;\n",
       "            fig.request_resize(ui.size.width, ui.size.height);\n",
       "        },\n",
       "    });\n",
       "\n",
       "    function mouse_event_fn(event) {\n",
       "        if (pass_mouse_events)\n",
       "            return fig.mouse_event(event, event['data']);\n",
       "    }\n",
       "\n",
       "    rubberband.mousedown('button_press', mouse_event_fn);\n",
       "    rubberband.mouseup('button_release', mouse_event_fn);\n",
       "    // Throttle sequential mouse events to 1 every 20ms.\n",
       "    rubberband.mousemove('motion_notify', mouse_event_fn);\n",
       "\n",
       "    rubberband.mouseenter('figure_enter', mouse_event_fn);\n",
       "    rubberband.mouseleave('figure_leave', mouse_event_fn);\n",
       "\n",
       "    canvas_div.on(\"wheel\", function (event) {\n",
       "        event = event.originalEvent;\n",
       "        event['data'] = 'scroll'\n",
       "        if (event.deltaY < 0) {\n",
       "            event.step = 1;\n",
       "        } else {\n",
       "            event.step = -1;\n",
       "        }\n",
       "        mouse_event_fn(event);\n",
       "    });\n",
       "\n",
       "    canvas_div.append(canvas);\n",
       "    canvas_div.append(rubberband);\n",
       "\n",
       "    this.rubberband = rubberband;\n",
       "    this.rubberband_canvas = rubberband[0];\n",
       "    this.rubberband_context = rubberband[0].getContext(\"2d\");\n",
       "    this.rubberband_context.strokeStyle = \"#000000\";\n",
       "\n",
       "    this._resize_canvas = function(width, height) {\n",
       "        // Keep the size of the canvas, canvas container, and rubber band\n",
       "        // canvas in synch.\n",
       "        canvas_div.css('width', width)\n",
       "        canvas_div.css('height', height)\n",
       "\n",
       "        canvas.attr('width', width);\n",
       "        canvas.attr('height', height);\n",
       "\n",
       "        rubberband.attr('width', width);\n",
       "        rubberband.attr('height', height);\n",
       "    }\n",
       "\n",
       "    // Set the figure to an initial 600x600px, this will subsequently be updated\n",
       "    // upon first draw.\n",
       "    this._resize_canvas(600, 600);\n",
       "\n",
       "    // Disable right mouse context menu.\n",
       "    $(this.rubberband_canvas).bind(\"contextmenu\",function(e){\n",
       "        return false;\n",
       "    });\n",
       "\n",
       "    function set_focus () {\n",
       "        canvas.focus();\n",
       "        canvas_div.focus();\n",
       "    }\n",
       "\n",
       "    window.setTimeout(set_focus, 100);\n",
       "}\n",
       "\n",
       "mpl.figure.prototype._init_toolbar = function() {\n",
       "    var fig = this;\n",
       "\n",
       "    var nav_element = $('<div/>')\n",
       "    nav_element.attr('style', 'width: 100%');\n",
       "    this.root.append(nav_element);\n",
       "\n",
       "    // Define a callback function for later on.\n",
       "    function toolbar_event(event) {\n",
       "        return fig.toolbar_button_onclick(event['data']);\n",
       "    }\n",
       "    function toolbar_mouse_event(event) {\n",
       "        return fig.toolbar_button_onmouseover(event['data']);\n",
       "    }\n",
       "\n",
       "    for(var toolbar_ind in mpl.toolbar_items) {\n",
       "        var name = mpl.toolbar_items[toolbar_ind][0];\n",
       "        var tooltip = mpl.toolbar_items[toolbar_ind][1];\n",
       "        var image = mpl.toolbar_items[toolbar_ind][2];\n",
       "        var method_name = mpl.toolbar_items[toolbar_ind][3];\n",
       "\n",
       "        if (!name) {\n",
       "            // put a spacer in here.\n",
       "            continue;\n",
       "        }\n",
       "        var button = $('<button/>');\n",
       "        button.addClass('ui-button ui-widget ui-state-default ui-corner-all ' +\n",
       "                        'ui-button-icon-only');\n",
       "        button.attr('role', 'button');\n",
       "        button.attr('aria-disabled', 'false');\n",
       "        button.click(method_name, toolbar_event);\n",
       "        button.mouseover(tooltip, toolbar_mouse_event);\n",
       "\n",
       "        var icon_img = $('<span/>');\n",
       "        icon_img.addClass('ui-button-icon-primary ui-icon');\n",
       "        icon_img.addClass(image);\n",
       "        icon_img.addClass('ui-corner-all');\n",
       "\n",
       "        var tooltip_span = $('<span/>');\n",
       "        tooltip_span.addClass('ui-button-text');\n",
       "        tooltip_span.html(tooltip);\n",
       "\n",
       "        button.append(icon_img);\n",
       "        button.append(tooltip_span);\n",
       "\n",
       "        nav_element.append(button);\n",
       "    }\n",
       "\n",
       "    var fmt_picker_span = $('<span/>');\n",
       "\n",
       "    var fmt_picker = $('<select/>');\n",
       "    fmt_picker.addClass('mpl-toolbar-option ui-widget ui-widget-content');\n",
       "    fmt_picker_span.append(fmt_picker);\n",
       "    nav_element.append(fmt_picker_span);\n",
       "    this.format_dropdown = fmt_picker[0];\n",
       "\n",
       "    for (var ind in mpl.extensions) {\n",
       "        var fmt = mpl.extensions[ind];\n",
       "        var option = $(\n",
       "            '<option/>', {selected: fmt === mpl.default_extension}).html(fmt);\n",
       "        fmt_picker.append(option)\n",
       "    }\n",
       "\n",
       "    // Add hover states to the ui-buttons\n",
       "    $( \".ui-button\" ).hover(\n",
       "        function() { $(this).addClass(\"ui-state-hover\");},\n",
       "        function() { $(this).removeClass(\"ui-state-hover\");}\n",
       "    );\n",
       "\n",
       "    var status_bar = $('<span class=\"mpl-message\"/>');\n",
       "    nav_element.append(status_bar);\n",
       "    this.message = status_bar[0];\n",
       "}\n",
       "\n",
       "mpl.figure.prototype.request_resize = function(x_pixels, y_pixels) {\n",
       "    // Request matplotlib to resize the figure. Matplotlib will then trigger a resize in the client,\n",
       "    // which will in turn request a refresh of the image.\n",
       "    this.send_message('resize', {'width': x_pixels, 'height': y_pixels});\n",
       "}\n",
       "\n",
       "mpl.figure.prototype.send_message = function(type, properties) {\n",
       "    properties['type'] = type;\n",
       "    properties['figure_id'] = this.id;\n",
       "    this.ws.send(JSON.stringify(properties));\n",
       "}\n",
       "\n",
       "mpl.figure.prototype.send_draw_message = function() {\n",
       "    if (!this.waiting) {\n",
       "        this.waiting = true;\n",
       "        this.ws.send(JSON.stringify({type: \"draw\", figure_id: this.id}));\n",
       "    }\n",
       "}\n",
       "\n",
       "\n",
       "mpl.figure.prototype.handle_save = function(fig, msg) {\n",
       "    var format_dropdown = fig.format_dropdown;\n",
       "    var format = format_dropdown.options[format_dropdown.selectedIndex].value;\n",
       "    fig.ondownload(fig, format);\n",
       "}\n",
       "\n",
       "\n",
       "mpl.figure.prototype.handle_resize = function(fig, msg) {\n",
       "    var size = msg['size'];\n",
       "    if (size[0] != fig.canvas.width || size[1] != fig.canvas.height) {\n",
       "        fig._resize_canvas(size[0], size[1]);\n",
       "        fig.send_message(\"refresh\", {});\n",
       "    };\n",
       "}\n",
       "\n",
       "mpl.figure.prototype.handle_rubberband = function(fig, msg) {\n",
       "    var x0 = msg['x0'];\n",
       "    var y0 = fig.canvas.height - msg['y0'];\n",
       "    var x1 = msg['x1'];\n",
       "    var y1 = fig.canvas.height - msg['y1'];\n",
       "    x0 = Math.floor(x0) + 0.5;\n",
       "    y0 = Math.floor(y0) + 0.5;\n",
       "    x1 = Math.floor(x1) + 0.5;\n",
       "    y1 = Math.floor(y1) + 0.5;\n",
       "    var min_x = Math.min(x0, x1);\n",
       "    var min_y = Math.min(y0, y1);\n",
       "    var width = Math.abs(x1 - x0);\n",
       "    var height = Math.abs(y1 - y0);\n",
       "\n",
       "    fig.rubberband_context.clearRect(\n",
       "        0, 0, fig.canvas.width, fig.canvas.height);\n",
       "\n",
       "    fig.rubberband_context.strokeRect(min_x, min_y, width, height);\n",
       "}\n",
       "\n",
       "mpl.figure.prototype.handle_figure_label = function(fig, msg) {\n",
       "    // Updates the figure title.\n",
       "    fig.header.textContent = msg['label'];\n",
       "}\n",
       "\n",
       "mpl.figure.prototype.handle_cursor = function(fig, msg) {\n",
       "    var cursor = msg['cursor'];\n",
       "    switch(cursor)\n",
       "    {\n",
       "    case 0:\n",
       "        cursor = 'pointer';\n",
       "        break;\n",
       "    case 1:\n",
       "        cursor = 'default';\n",
       "        break;\n",
       "    case 2:\n",
       "        cursor = 'crosshair';\n",
       "        break;\n",
       "    case 3:\n",
       "        cursor = 'move';\n",
       "        break;\n",
       "    }\n",
       "    fig.rubberband_canvas.style.cursor = cursor;\n",
       "}\n",
       "\n",
       "mpl.figure.prototype.handle_message = function(fig, msg) {\n",
       "    fig.message.textContent = msg['message'];\n",
       "}\n",
       "\n",
       "mpl.figure.prototype.handle_draw = function(fig, msg) {\n",
       "    // Request the server to send over a new figure.\n",
       "    fig.send_draw_message();\n",
       "}\n",
       "\n",
       "mpl.figure.prototype.handle_image_mode = function(fig, msg) {\n",
       "    fig.image_mode = msg['mode'];\n",
       "}\n",
       "\n",
       "mpl.figure.prototype.updated_canvas_event = function() {\n",
       "    // Called whenever the canvas gets updated.\n",
       "    this.send_message(\"ack\", {});\n",
       "}\n",
       "\n",
       "// A function to construct a web socket function for onmessage handling.\n",
       "// Called in the figure constructor.\n",
       "mpl.figure.prototype._make_on_message_function = function(fig) {\n",
       "    return function socket_on_message(evt) {\n",
       "        if (evt.data instanceof Blob) {\n",
       "            /* FIXME: We get \"Resource interpreted as Image but\n",
       "             * transferred with MIME type text/plain:\" errors on\n",
       "             * Chrome.  But how to set the MIME type?  It doesn't seem\n",
       "             * to be part of the websocket stream */\n",
       "            evt.data.type = \"image/png\";\n",
       "\n",
       "            /* Free the memory for the previous frames */\n",
       "            if (fig.imageObj.src) {\n",
       "                (window.URL || window.webkitURL).revokeObjectURL(\n",
       "                    fig.imageObj.src);\n",
       "            }\n",
       "\n",
       "            fig.imageObj.src = (window.URL || window.webkitURL).createObjectURL(\n",
       "                evt.data);\n",
       "            fig.updated_canvas_event();\n",
       "            fig.waiting = false;\n",
       "            return;\n",
       "        }\n",
       "        else if (typeof evt.data === 'string' && evt.data.slice(0, 21) == \"data:image/png;base64\") {\n",
       "            fig.imageObj.src = evt.data;\n",
       "            fig.updated_canvas_event();\n",
       "            fig.waiting = false;\n",
       "            return;\n",
       "        }\n",
       "\n",
       "        var msg = JSON.parse(evt.data);\n",
       "        var msg_type = msg['type'];\n",
       "\n",
       "        // Call the  \"handle_{type}\" callback, which takes\n",
       "        // the figure and JSON message as its only arguments.\n",
       "        try {\n",
       "            var callback = fig[\"handle_\" + msg_type];\n",
       "        } catch (e) {\n",
       "            console.log(\"No handler for the '\" + msg_type + \"' message type: \", msg);\n",
       "            return;\n",
       "        }\n",
       "\n",
       "        if (callback) {\n",
       "            try {\n",
       "                // console.log(\"Handling '\" + msg_type + \"' message: \", msg);\n",
       "                callback(fig, msg);\n",
       "            } catch (e) {\n",
       "                console.log(\"Exception inside the 'handler_\" + msg_type + \"' callback:\", e, e.stack, msg);\n",
       "            }\n",
       "        }\n",
       "    };\n",
       "}\n",
       "\n",
       "// from http://stackoverflow.com/questions/1114465/getting-mouse-location-in-canvas\n",
       "mpl.findpos = function(e) {\n",
       "    //this section is from http://www.quirksmode.org/js/events_properties.html\n",
       "    var targ;\n",
       "    if (!e)\n",
       "        e = window.event;\n",
       "    if (e.target)\n",
       "        targ = e.target;\n",
       "    else if (e.srcElement)\n",
       "        targ = e.srcElement;\n",
       "    if (targ.nodeType == 3) // defeat Safari bug\n",
       "        targ = targ.parentNode;\n",
       "\n",
       "    // jQuery normalizes the pageX and pageY\n",
       "    // pageX,Y are the mouse positions relative to the document\n",
       "    // offset() returns the position of the element relative to the document\n",
       "    var x = e.pageX - $(targ).offset().left;\n",
       "    var y = e.pageY - $(targ).offset().top;\n",
       "\n",
       "    return {\"x\": x, \"y\": y};\n",
       "};\n",
       "\n",
       "/*\n",
       " * return a copy of an object with only non-object keys\n",
       " * we need this to avoid circular references\n",
       " * http://stackoverflow.com/a/24161582/3208463\n",
       " */\n",
       "function simpleKeys (original) {\n",
       "  return Object.keys(original).reduce(function (obj, key) {\n",
       "    if (typeof original[key] !== 'object')\n",
       "        obj[key] = original[key]\n",
       "    return obj;\n",
       "  }, {});\n",
       "}\n",
       "\n",
       "mpl.figure.prototype.mouse_event = function(event, name) {\n",
       "    var canvas_pos = mpl.findpos(event)\n",
       "\n",
       "    if (name === 'button_press')\n",
       "    {\n",
       "        this.canvas.focus();\n",
       "        this.canvas_div.focus();\n",
       "    }\n",
       "\n",
       "    var x = canvas_pos.x;\n",
       "    var y = canvas_pos.y;\n",
       "\n",
       "    this.send_message(name, {x: x, y: y, button: event.button,\n",
       "                             step: event.step,\n",
       "                             guiEvent: simpleKeys(event)});\n",
       "\n",
       "    /* This prevents the web browser from automatically changing to\n",
       "     * the text insertion cursor when the button is pressed.  We want\n",
       "     * to control all of the cursor setting manually through the\n",
       "     * 'cursor' event from matplotlib */\n",
       "    event.preventDefault();\n",
       "    return false;\n",
       "}\n",
       "\n",
       "mpl.figure.prototype._key_event_extra = function(event, name) {\n",
       "    // Handle any extra behaviour associated with a key event\n",
       "}\n",
       "\n",
       "mpl.figure.prototype.key_event = function(event, name) {\n",
       "\n",
       "    // Prevent repeat events\n",
       "    if (name == 'key_press')\n",
       "    {\n",
       "        if (event.which === this._key)\n",
       "            return;\n",
       "        else\n",
       "            this._key = event.which;\n",
       "    }\n",
       "    if (name == 'key_release')\n",
       "        this._key = null;\n",
       "\n",
       "    var value = '';\n",
       "    if (event.ctrlKey && event.which != 17)\n",
       "        value += \"ctrl+\";\n",
       "    if (event.altKey && event.which != 18)\n",
       "        value += \"alt+\";\n",
       "    if (event.shiftKey && event.which != 16)\n",
       "        value += \"shift+\";\n",
       "\n",
       "    value += 'k';\n",
       "    value += event.which.toString();\n",
       "\n",
       "    this._key_event_extra(event, name);\n",
       "\n",
       "    this.send_message(name, {key: value,\n",
       "                             guiEvent: simpleKeys(event)});\n",
       "    return false;\n",
       "}\n",
       "\n",
       "mpl.figure.prototype.toolbar_button_onclick = function(name) {\n",
       "    if (name == 'download') {\n",
       "        this.handle_save(this, null);\n",
       "    } else {\n",
       "        this.send_message(\"toolbar_button\", {name: name});\n",
       "    }\n",
       "};\n",
       "\n",
       "mpl.figure.prototype.toolbar_button_onmouseover = function(tooltip) {\n",
       "    this.message.textContent = tooltip;\n",
       "};\n",
       "mpl.toolbar_items = [[\"Home\", \"Reset original view\", \"fa fa-home icon-home\", \"home\"], [\"Back\", \"Back to  previous view\", \"fa fa-arrow-left icon-arrow-left\", \"back\"], [\"Forward\", \"Forward to next view\", \"fa fa-arrow-right icon-arrow-right\", \"forward\"], [\"\", \"\", \"\", \"\"], [\"Pan\", \"Pan axes with left mouse, zoom with right\", \"fa fa-arrows icon-move\", \"pan\"], [\"Zoom\", \"Zoom to rectangle\", \"fa fa-square-o icon-check-empty\", \"zoom\"], [\"\", \"\", \"\", \"\"], [\"Download\", \"Download plot\", \"fa fa-floppy-o icon-save\", \"download\"]];\n",
       "\n",
       "mpl.extensions = [\"eps\", \"jpeg\", \"pdf\", \"png\", \"ps\", \"raw\", \"svg\", \"tif\"];\n",
       "\n",
       "mpl.default_extension = \"png\";var comm_websocket_adapter = function(comm) {\n",
       "    // Create a \"websocket\"-like object which calls the given IPython comm\n",
       "    // object with the appropriate methods. Currently this is a non binary\n",
       "    // socket, so there is still some room for performance tuning.\n",
       "    var ws = {};\n",
       "\n",
       "    ws.close = function() {\n",
       "        comm.close()\n",
       "    };\n",
       "    ws.send = function(m) {\n",
       "        //console.log('sending', m);\n",
       "        comm.send(m);\n",
       "    };\n",
       "    // Register the callback with on_msg.\n",
       "    comm.on_msg(function(msg) {\n",
       "        //console.log('receiving', msg['content']['data'], msg);\n",
       "        // Pass the mpl event to the overriden (by mpl) onmessage function.\n",
       "        ws.onmessage(msg['content']['data'])\n",
       "    });\n",
       "    return ws;\n",
       "}\n",
       "\n",
       "mpl.mpl_figure_comm = function(comm, msg) {\n",
       "    // This is the function which gets called when the mpl process\n",
       "    // starts-up an IPython Comm through the \"matplotlib\" channel.\n",
       "\n",
       "    var id = msg.content.data.id;\n",
       "    // Get hold of the div created by the display call when the Comm\n",
       "    // socket was opened in Python.\n",
       "    var element = $(\"#\" + id);\n",
       "    var ws_proxy = comm_websocket_adapter(comm)\n",
       "\n",
       "    function ondownload(figure, format) {\n",
       "        window.open(figure.imageObj.src);\n",
       "    }\n",
       "\n",
       "    var fig = new mpl.figure(id, ws_proxy,\n",
       "                           ondownload,\n",
       "                           element.get(0));\n",
       "\n",
       "    // Call onopen now - mpl needs it, as it is assuming we've passed it a real\n",
       "    // web socket which is closed, not our websocket->open comm proxy.\n",
       "    ws_proxy.onopen();\n",
       "\n",
       "    fig.parent_element = element.get(0);\n",
       "    fig.cell_info = mpl.find_output_cell(\"<div id='\" + id + \"'></div>\");\n",
       "    if (!fig.cell_info) {\n",
       "        console.error(\"Failed to find cell for figure\", id, fig);\n",
       "        return;\n",
       "    }\n",
       "\n",
       "    var output_index = fig.cell_info[2]\n",
       "    var cell = fig.cell_info[0];\n",
       "\n",
       "};\n",
       "\n",
       "mpl.figure.prototype.handle_close = function(fig, msg) {\n",
       "    fig.root.unbind('remove')\n",
       "\n",
       "    // Update the output cell to use the data from the current canvas.\n",
       "    fig.push_to_output();\n",
       "    var dataURL = fig.canvas.toDataURL();\n",
       "    // Re-enable the keyboard manager in IPython - without this line, in FF,\n",
       "    // the notebook keyboard shortcuts fail.\n",
       "    IPython.keyboard_manager.enable()\n",
       "    $(fig.parent_element).html('<img src=\"' + dataURL + '\">');\n",
       "    fig.close_ws(fig, msg);\n",
       "}\n",
       "\n",
       "mpl.figure.prototype.close_ws = function(fig, msg){\n",
       "    fig.send_message('closing', msg);\n",
       "    // fig.ws.close()\n",
       "}\n",
       "\n",
       "mpl.figure.prototype.push_to_output = function(remove_interactive) {\n",
       "    // Turn the data on the canvas into data in the output cell.\n",
       "    var dataURL = this.canvas.toDataURL();\n",
       "    this.cell_info[1]['text/html'] = '<img src=\"' + dataURL + '\">';\n",
       "}\n",
       "\n",
       "mpl.figure.prototype.updated_canvas_event = function() {\n",
       "    // Tell IPython that the notebook contents must change.\n",
       "    IPython.notebook.set_dirty(true);\n",
       "    this.send_message(\"ack\", {});\n",
       "    var fig = this;\n",
       "    // Wait a second, then push the new image to the DOM so\n",
       "    // that it is saved nicely (might be nice to debounce this).\n",
       "    setTimeout(function () { fig.push_to_output() }, 1000);\n",
       "}\n",
       "\n",
       "mpl.figure.prototype._init_toolbar = function() {\n",
       "    var fig = this;\n",
       "\n",
       "    var nav_element = $('<div/>')\n",
       "    nav_element.attr('style', 'width: 100%');\n",
       "    this.root.append(nav_element);\n",
       "\n",
       "    // Define a callback function for later on.\n",
       "    function toolbar_event(event) {\n",
       "        return fig.toolbar_button_onclick(event['data']);\n",
       "    }\n",
       "    function toolbar_mouse_event(event) {\n",
       "        return fig.toolbar_button_onmouseover(event['data']);\n",
       "    }\n",
       "\n",
       "    for(var toolbar_ind in mpl.toolbar_items){\n",
       "        var name = mpl.toolbar_items[toolbar_ind][0];\n",
       "        var tooltip = mpl.toolbar_items[toolbar_ind][1];\n",
       "        var image = mpl.toolbar_items[toolbar_ind][2];\n",
       "        var method_name = mpl.toolbar_items[toolbar_ind][3];\n",
       "\n",
       "        if (!name) { continue; };\n",
       "\n",
       "        var button = $('<button class=\"btn btn-default\" href=\"#\" title=\"' + name + '\"><i class=\"fa ' + image + ' fa-lg\"></i></button>');\n",
       "        button.click(method_name, toolbar_event);\n",
       "        button.mouseover(tooltip, toolbar_mouse_event);\n",
       "        nav_element.append(button);\n",
       "    }\n",
       "\n",
       "    // Add the status bar.\n",
       "    var status_bar = $('<span class=\"mpl-message\" style=\"text-align:right; float: right;\"/>');\n",
       "    nav_element.append(status_bar);\n",
       "    this.message = status_bar[0];\n",
       "\n",
       "    // Add the close button to the window.\n",
       "    var buttongrp = $('<div class=\"btn-group inline pull-right\"></div>');\n",
       "    var button = $('<button class=\"btn btn-mini btn-primary\" href=\"#\" title=\"Stop Interaction\"><i class=\"fa fa-power-off icon-remove icon-large\"></i></button>');\n",
       "    button.click(function (evt) { fig.handle_close(fig, {}); } );\n",
       "    button.mouseover('Stop Interaction', toolbar_mouse_event);\n",
       "    buttongrp.append(button);\n",
       "    var titlebar = this.root.find($('.ui-dialog-titlebar'));\n",
       "    titlebar.prepend(buttongrp);\n",
       "}\n",
       "\n",
       "mpl.figure.prototype._root_extra_style = function(el){\n",
       "    var fig = this\n",
       "    el.on(\"remove\", function(){\n",
       "\tfig.close_ws(fig, {});\n",
       "    });\n",
       "}\n",
       "\n",
       "mpl.figure.prototype._canvas_extra_style = function(el){\n",
       "    // this is important to make the div 'focusable\n",
       "    el.attr('tabindex', 0)\n",
       "    // reach out to IPython and tell the keyboard manager to turn it's self\n",
       "    // off when our div gets focus\n",
       "\n",
       "    // location in version 3\n",
       "    if (IPython.notebook.keyboard_manager) {\n",
       "        IPython.notebook.keyboard_manager.register_events(el);\n",
       "    }\n",
       "    else {\n",
       "        // location in version 2\n",
       "        IPython.keyboard_manager.register_events(el);\n",
       "    }\n",
       "\n",
       "}\n",
       "\n",
       "mpl.figure.prototype._key_event_extra = function(event, name) {\n",
       "    var manager = IPython.notebook.keyboard_manager;\n",
       "    if (!manager)\n",
       "        manager = IPython.keyboard_manager;\n",
       "\n",
       "    // Check for shift+enter\n",
       "    if (event.shiftKey && event.which == 13) {\n",
       "        this.canvas_div.blur();\n",
       "        // select the cell after this one\n",
       "        var index = IPython.notebook.find_cell_index(this.cell_info[0]);\n",
       "        IPython.notebook.select(index + 1);\n",
       "    }\n",
       "}\n",
       "\n",
       "mpl.figure.prototype.handle_save = function(fig, msg) {\n",
       "    fig.ondownload(fig, null);\n",
       "}\n",
       "\n",
       "\n",
       "mpl.find_output_cell = function(html_output) {\n",
       "    // Return the cell and output element which can be found *uniquely* in the notebook.\n",
       "    // Note - this is a bit hacky, but it is done because the \"notebook_saving.Notebook\"\n",
       "    // IPython event is triggered only after the cells have been serialised, which for\n",
       "    // our purposes (turning an active figure into a static one), is too late.\n",
       "    var cells = IPython.notebook.get_cells();\n",
       "    var ncells = cells.length;\n",
       "    for (var i=0; i<ncells; i++) {\n",
       "        var cell = cells[i];\n",
       "        if (cell.cell_type === 'code'){\n",
       "            for (var j=0; j<cell.output_area.outputs.length; j++) {\n",
       "                var data = cell.output_area.outputs[j];\n",
       "                if (data.data) {\n",
       "                    // IPython >= 3 moved mimebundle to data attribute of output\n",
       "                    data = data.data;\n",
       "                }\n",
       "                if (data['text/html'] == html_output) {\n",
       "                    return [cell, data, j];\n",
       "                }\n",
       "            }\n",
       "        }\n",
       "    }\n",
       "}\n",
       "\n",
       "// Register the function which deals with the matplotlib target/channel.\n",
       "// The kernel may be null if the page has been refreshed.\n",
       "if (IPython.notebook.kernel != null) {\n",
       "    IPython.notebook.kernel.comm_manager.register_target('matplotlib', mpl.mpl_figure_comm);\n",
       "}\n"
      ],
      "text/plain": [
       "<IPython.core.display.Javascript object>"
      ]
     },
     "metadata": {},
     "output_type": "display_data"
    },
    {
     "data": {
      "text/html": [
       "<img src=\"data:image/png;base64,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\">"
      ],
      "text/plain": [
       "<IPython.core.display.HTML object>"
      ]
     },
     "metadata": {},
     "output_type": "display_data"
    },
    {
     "data": {
      "text/plain": [
       "[<matplotlib.lines.Line2D at 0x7f119a3e1c50>]"
      ]
     },
     "execution_count": 40,
     "metadata": {},
     "output_type": "execute_result"
    }
   ],
   "source": [
    "import matplotlib.pyplot as plt\n",
    "%matplotlib notebook\n",
    "\n",
    "fig = plt.figure(1)\n",
    "ax = fig.add_subplot(1,1,1)\n",
    "ax.plot(days, filtered.measurement)"
   ]
  },
  {
   "cell_type": "code",
   "execution_count": null,
   "metadata": {
    "collapsed": true
   },
   "outputs": [],
   "source": []
  }
 ],
 "metadata": {
  "kernelspec": {
   "display_name": "Python 3",
   "language": "python",
   "name": "python3"
  },
  "language_info": {
   "codemirror_mode": {
    "name": "ipython",
    "version": 3
   },
   "file_extension": ".py",
   "mimetype": "text/x-python",
   "name": "python",
   "nbconvert_exporter": "python",
   "pygments_lexer": "ipython3",
   "version": "3.5.2"
  }
 },
 "nbformat": 4,
 "nbformat_minor": 2
}
