{
 "cells": [
  {
   "cell_type": "markdown",
   "metadata": {},
   "source": [
    "## Iteración"
   ]
  },
  {
   "cell_type": "code",
   "execution_count": 12,
   "metadata": {
    "collapsed": false
   },
   "outputs": [
    {
     "name": "stdout",
     "output_type": "stream",
     "text": [
      "0\n",
      "1\n",
      "2\n",
      "3\n",
      "4\n",
      "5\n",
      "6\n",
      "7\n",
      "8\n",
      "9\n",
      "<class 'range'>\n"
     ]
    }
   ],
   "source": [
    "for i in range(10):\n",
    "    print(i)\n",
    "\n",
    "print(type(range(10)))"
   ]
  },
  {
   "cell_type": "code",
   "execution_count": 13,
   "metadata": {
    "collapsed": false
   },
   "outputs": [
    {
     "name": "stdout",
     "output_type": "stream",
     "text": [
      "1\n",
      "2\n",
      "3\n",
      "4\n"
     ]
    }
   ],
   "source": [
    "for elem in [1,2,3,4]:\n",
    "    print(elem)"
   ]
  },
  {
   "cell_type": "code",
   "execution_count": 14,
   "metadata": {
    "collapsed": false
   },
   "outputs": [
    {
     "name": "stdout",
     "output_type": "stream",
     "text": [
      "c\n",
      "a\n",
      "b\n"
     ]
    }
   ],
   "source": [
    "for elem in {'a': 1, 'b': 2, 'c': 3}:\n",
    "    print(elem)"
   ]
  },
  {
   "cell_type": "code",
   "execution_count": 15,
   "metadata": {
    "collapsed": false
   },
   "outputs": [
    {
     "name": "stdout",
     "output_type": "stream",
     "text": [
      "c\n",
      "a\n",
      "b\n"
     ]
    }
   ],
   "source": [
    "a = {'a': 1, 'b': 2, 'c': 3}\n",
    "\n",
    "for elem in a.keys():\n",
    "    print(elem)"
   ]
  },
  {
   "cell_type": "code",
   "execution_count": 16,
   "metadata": {
    "collapsed": false
   },
   "outputs": [
    {
     "name": "stdout",
     "output_type": "stream",
     "text": [
      "c\n",
      "a\n",
      "b\n",
      "3\n",
      "1\n",
      "2\n"
     ]
    }
   ],
   "source": [
    "a = dict(a=1, b=2, c=3)\n",
    "\n",
    "for elem in a.keys():\n",
    "    print(elem)\n",
    "\n",
    "for elem in a.values():\n",
    "    print(elem)"
   ]
  },
  {
   "cell_type": "code",
   "execution_count": 17,
   "metadata": {
    "collapsed": false
   },
   "outputs": [
    {
     "name": "stdout",
     "output_type": "stream",
     "text": [
      "('c', 3)\n",
      "('a', 1)\n",
      "('b', 2)\n",
      "<class 'dict_items'>\n"
     ]
    }
   ],
   "source": [
    "for elem in a.items():\n",
    "    print(elem)\n",
    "    \n",
    "print(type(a.items()))"
   ]
  },
  {
   "cell_type": "code",
   "execution_count": 18,
   "metadata": {
    "collapsed": false
   },
   "outputs": [
    {
     "name": "stdout",
     "output_type": "stream",
     "text": [
      "0->('c', 3)\n",
      "1->('a', 1)\n",
      "2->('b', 2)\n"
     ]
    }
   ],
   "source": [
    "for i, elem in enumerate(a.items()):\n",
    "    print(i, elem, sep='->')"
   ]
  },
  {
   "cell_type": "code",
   "execution_count": 19,
   "metadata": {
    "collapsed": false
   },
   "outputs": [
    {
     "name": "stdout",
     "output_type": "stream",
     "text": [
      "c->3\n",
      "a->1\n",
      "b->2\n"
     ]
    }
   ],
   "source": [
    "for key, value in zip(a.keys(), a.values()):\n",
    "    print(key, value, sep='->')"
   ]
  },
  {
   "cell_type": "code",
   "execution_count": 20,
   "metadata": {
    "collapsed": false
   },
   "outputs": [
    {
     "name": "stdout",
     "output_type": "stream",
     "text": [
      "a->1\n",
      "b->2\n",
      "c->3\n"
     ]
    }
   ],
   "source": [
    "for key in sorted(a):\n",
    "    print(key, a[key], sep='->')"
   ]
  },
  {
   "cell_type": "code",
   "execution_count": 21,
   "metadata": {
    "collapsed": false
   },
   "outputs": [
    {
     "name": "stdout",
     "output_type": "stream",
     "text": [
      "c->3\n",
      "b->2\n",
      "a->1\n"
     ]
    }
   ],
   "source": [
    "for key in reversed(sorted(a)):\n",
    "    print(key, a[key], sep='->')"
   ]
  },
  {
   "cell_type": "markdown",
   "metadata": {},
   "source": [
    "## Condicionales"
   ]
  },
  {
   "cell_type": "code",
   "execution_count": 22,
   "metadata": {
    "collapsed": false
   },
   "outputs": [
    {
     "name": "stdout",
     "output_type": "stream",
     "text": [
      "1\n",
      "1\n",
      "2\n",
      "3\n",
      "5\n",
      "8\n"
     ]
    }
   ],
   "source": [
    "a, b = 0, 1\n",
    "while b < 10:\n",
    "    print(b)\n",
    "    a, b = b, a+b\n",
    "\n",
    " "
   ]
  },
  {
   "cell_type": "code",
   "execution_count": 23,
   "metadata": {
    "collapsed": false
   },
   "outputs": [
    {
     "name": "stdout",
     "output_type": "stream",
     "text": [
      "1\n",
      "1\n",
      "2\n",
      "3\n",
      "5\n",
      "8\n"
     ]
    }
   ],
   "source": [
    "a, b = 0, 1\n",
    "while b:\n",
    "    print(b)\n",
    "    a, b = b, a+b\n",
    "    if b > 10:\n",
    "        break\n",
    "    "
   ]
  },
  {
   "cell_type": "code",
   "execution_count": 24,
   "metadata": {
    "collapsed": false
   },
   "outputs": [
    {
     "name": "stdout",
     "output_type": "stream",
     "text": [
      "the 0th Fibonacci number is 1\n",
      "the 1th Fibonacci number is 1\n",
      "the 2th Fibonacci number is 2\n",
      "the 3th Fibonacci number is 3\n",
      "the 4th Fibonacci number is 5\n",
      "the 5th Fibonacci number is 8\n",
      "the 6th Fibonacci number is 13\n",
      "the 7th Fibonacci number is 21\n",
      "the 8th Fibonacci number is 34\n",
      "the 9th Fibonacci number is 55\n",
      "the 10th Fibonacci number is 89\n",
      "the 11th Fibonacci number is 144\n",
      "the 12th Fibonacci number is 233\n"
     ]
    }
   ],
   "source": [
    "a, b, c = 0, 1, 0\n",
    "while b:\n",
    "    print('the {}th Fibonacci number is {}'.format(c, b))\n",
    "    a, b = b, a+b\n",
    "    c += 1\n",
    "    if b > 1000 or c > 12:\n",
    "        break "
   ]
  },
  {
   "cell_type": "code",
   "execution_count": 25,
   "metadata": {
    "collapsed": false
   },
   "outputs": [
    {
     "name": "stdout",
     "output_type": "stream",
     "text": [
      "0\n",
      "1\n",
      "2\n",
      "4\n",
      "5\n",
      "6\n",
      "7\n"
     ]
    }
   ],
   "source": [
    "for i in range(10):\n",
    "    if i == 3:\n",
    "        continue\n",
    "    elif i > 7:\n",
    "        break\n",
    "    else:\n",
    "        print(i)"
   ]
  },
  {
   "cell_type": "code",
   "execution_count": 26,
   "metadata": {
    "collapsed": false
   },
   "outputs": [
    {
     "name": "stdout",
     "output_type": "stream",
     "text": [
      "Number 0 is even\n",
      "Number 1 is odd\n",
      "Number 2 is even\n",
      "Number 3 is odd\n",
      "Number 4 is even\n",
      "Number 5 is odd\n",
      "Number 6 is even\n",
      "Number 7 is odd\n",
      "Number 8 is even\n",
      "Number 9 is odd\n"
     ]
    }
   ],
   "source": [
    "for i in range(10):\n",
    "    if i % 2 == 0:\n",
    "        print(\"Number {} is even\".format(i))\n",
    "    else:\n",
    "        print(\"Number {} is odd\".format(i))"
   ]
  },
  {
   "cell_type": "code",
   "execution_count": 27,
   "metadata": {
    "collapsed": false
   },
   "outputs": [
    {
     "name": "stdout",
     "output_type": "stream",
     "text": [
      "Empty iterator\n"
     ]
    }
   ],
   "source": [
    "for i in range(0):\n",
    "    print(i)\n",
    "else:\n",
    "    print(\"Empty iterator\")"
   ]
  }
 ],
 "metadata": {
  "kernelspec": {
   "display_name": "Python 3",
   "language": "python",
   "name": "python3"
  },
  "language_info": {
   "codemirror_mode": {
    "name": "ipython",
    "version": 3
   },
   "file_extension": ".py",
   "mimetype": "text/x-python",
   "name": "python",
   "nbconvert_exporter": "python",
   "pygments_lexer": "ipython3",
   "version": "3.4.2"
  }
 },
 "nbformat": 4,
 "nbformat_minor": 1
}
