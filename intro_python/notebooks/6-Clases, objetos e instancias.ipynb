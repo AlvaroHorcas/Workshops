{
 "cells": [
  {
   "cell_type": "code",
   "execution_count": 1,
   "metadata": {
    "collapsed": true
   },
   "outputs": [],
   "source": [
    "class Pato():\n",
    "    def cuaquea(self):\n",
    "        return '¡cua cua!'"
   ]
  },
  {
   "cell_type": "code",
   "execution_count": 2,
   "metadata": {
    "collapsed": false
   },
   "outputs": [
    {
     "name": "stdout",
     "output_type": "stream",
     "text": [
      "<class '__main__.Pato'>\n",
      "¡cua cua!\n"
     ]
    }
   ],
   "source": [
    "instancia_de_pato = Pato()\n",
    "print(type(instancia_de_pato))\n",
    "print(instancia_de_pato.cuaquea())"
   ]
  },
  {
   "cell_type": "code",
   "execution_count": 7,
   "metadata": {
    "collapsed": false
   },
   "outputs": [
    {
     "name": "stdout",
     "output_type": "stream",
     "text": [
      "(12.566370614359172, 'm^2')\n"
     ]
    }
   ],
   "source": [
    "import math\n",
    "\n",
    "class Circulo():\n",
    "    \"\"\"\n",
    "    Versión avanzada de un círculo para analítica avanzada\n",
    "    \"\"\"\n",
    "    def __init__(self, radio: float):\n",
    "        self.radio = radio\n",
    "        self.unidad_longitud = 'm'\n",
    "        self.unidad_area = 'm^2'\n",
    "        \n",
    "    def area(self):\n",
    "        \"\"\"\n",
    "        Calcula el área de un círculo\n",
    "        \n",
    "        returns: área, unidad\n",
    "        \"\"\"\n",
    "        return math.pi * self.radio**2, self.unidad_area\n",
    "    \n",
    "un_circulo = Circulo(2.0)\n",
    "print(un_circulo.area())"
   ]
  },
  {
   "cell_type": "code",
   "execution_count": 15,
   "metadata": {
    "collapsed": false
   },
   "outputs": [
    {
     "name": "stdout",
     "output_type": "stream",
     "text": [
      "Help on Circulo in module __main__ object:\n",
      "\n",
      "class Circulo(builtins.object)\n",
      " |  Versión avanzada de un círculo para analítica avanzada\n",
      " |  \n",
      " |  Methods defined here:\n",
      " |  \n",
      " |  __init__(self, radio:float)\n",
      " |  \n",
      " |  area(self)\n",
      " |      Calcula el área de un círculo\n",
      " |      \n",
      " |      returns: área, unidad\n",
      " |  \n",
      " |  ----------------------------------------------------------------------\n",
      " |  Data descriptors defined here:\n",
      " |  \n",
      " |  __dict__\n",
      " |      dictionary for instance variables (if defined)\n",
      " |  \n",
      " |  __weakref__\n",
      " |      list of weak references to the object (if defined)\n",
      "\n"
     ]
    }
   ],
   "source": [
    "help(un_circulo)"
   ]
  },
  {
   "cell_type": "code",
   "execution_count": 12,
   "metadata": {
    "collapsed": false
   },
   "outputs": [
    {
     "name": "stdout",
     "output_type": "stream",
     "text": [
      "(4.523893421169302, 'ft^2')\n"
     ]
    }
   ],
   "source": [
    "un_circulo.unidad_area = 'ft^2'\n",
    "un_circulo.radio = 1.2\n",
    "\n",
    "print(un_circulo.area())"
   ]
  },
  {
   "cell_type": "code",
   "execution_count": 21,
   "metadata": {
    "collapsed": false
   },
   "outputs": [
    {
     "name": "stdout",
     "output_type": "stream",
     "text": [
      "Help on class CirculoAvanzado in module __main__:\n",
      "\n",
      "class CirculoAvanzado(Circulo)\n",
      " |  Method resolution order:\n",
      " |      CirculoAvanzado\n",
      " |      Circulo\n",
      " |      builtins.object\n",
      " |  \n",
      " |  Methods defined here:\n",
      " |  \n",
      " |  perimetro(self)\n",
      " |      Calcula el perímetro\n",
      " |      \n",
      " |      returns: perímetro, unidad\n",
      " |  \n",
      " |  ----------------------------------------------------------------------\n",
      " |  Methods inherited from Circulo:\n",
      " |  \n",
      " |  __init__(self, radio:float)\n",
      " |  \n",
      " |  area(self)\n",
      " |      Calcula el área de un círculo\n",
      " |      \n",
      " |      returns: área, unidad\n",
      " |  \n",
      " |  ----------------------------------------------------------------------\n",
      " |  Data descriptors inherited from Circulo:\n",
      " |  \n",
      " |  __dict__\n",
      " |      dictionary for instance variables (if defined)\n",
      " |  \n",
      " |  __weakref__\n",
      " |      list of weak references to the object (if defined)\n",
      "\n"
     ]
    }
   ],
   "source": [
    "class CirculoAvanzado(Circulo):\n",
    "    def perimetro(self):\n",
    "        \"\"\"\n",
    "        Calcula el perímetro\n",
    "        \n",
    "        returns: perímetro, unidad\n",
    "        \"\"\"\n",
    "        return 2 * math.pi * self.radio, self.unidad_longitud\n",
    "\n",
    "help(CirculoAvanzado)"
   ]
  },
  {
   "cell_type": "code",
   "execution_count": 22,
   "metadata": {
    "collapsed": false
   },
   "outputs": [
    {
     "name": "stdout",
     "output_type": "stream",
     "text": [
      "(1.4451326206513049, 'm')\n",
      "(0.16619025137490007, 'm^2')\n"
     ]
    }
   ],
   "source": [
    "un_circulo_avanzado = CirculoAvanzado(0.23)\n",
    "print(un_circulo_avanzado.perimetro())\n",
    "print(un_circulo_avanzado.area())"
   ]
  },
  {
   "cell_type": "code",
   "execution_count": null,
   "metadata": {
    "collapsed": true
   },
   "outputs": [],
   "source": []
  }
 ],
 "metadata": {
  "kernelspec": {
   "display_name": "Python 3",
   "language": "python",
   "name": "python3"
  },
  "language_info": {
   "codemirror_mode": {
    "name": "ipython",
    "version": 3
   },
   "file_extension": ".py",
   "mimetype": "text/x-python",
   "name": "python",
   "nbconvert_exporter": "python",
   "pygments_lexer": "ipython3",
   "version": "3.4.2"
  }
 },
 "nbformat": 4,
 "nbformat_minor": 1
}
