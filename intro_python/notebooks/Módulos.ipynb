{
 "cells": [
  {
   "cell_type": "code",
   "execution_count": 1,
   "metadata": {
    "collapsed": true
   },
   "outputs": [],
   "source": [
    "from formas import Cuadrado, Circulo"
   ]
  },
  {
   "cell_type": "code",
   "execution_count": 2,
   "metadata": {
    "collapsed": false
   },
   "outputs": [
    {
     "name": "stdout",
     "output_type": "stream",
     "text": [
      "Help on class Cuadrado in module formas:\n",
      "\n",
      "class Cuadrado(builtins.object)\n",
      " |  Cuadrado para analítica avanzada\n",
      " |  \n",
      " |  Methods defined here:\n",
      " |  \n",
      " |  __init__(self, lado)\n",
      " |  \n",
      " |  area(self)\n",
      " |      Calcula el área\n",
      " |      \n",
      " |      returns: área, unidad\n",
      " |  \n",
      " |  perimetro(self)\n",
      " |      Calcula el perímetro\n",
      " |      \n",
      " |      returns: perímetro, unidad\n",
      " |  \n",
      " |  ----------------------------------------------------------------------\n",
      " |  Data descriptors defined here:\n",
      " |  \n",
      " |  __dict__\n",
      " |      dictionary for instance variables (if defined)\n",
      " |  \n",
      " |  __weakref__\n",
      " |      list of weak references to the object (if defined)\n",
      "\n"
     ]
    }
   ],
   "source": [
    "help(Cuadrado)"
   ]
  },
  {
   "cell_type": "code",
   "execution_count": 6,
   "metadata": {
    "collapsed": false
   },
   "outputs": [
    {
     "data": {
      "text/plain": [
       "[<formas.Cuadrado at 0x7f7dac042198>,\n",
       " <formas.Cuadrado at 0x7f7dac0421d0>,\n",
       " <formas.Cuadrado at 0x7f7dac0426d8>,\n",
       " <formas.Cuadrado at 0x7f7dac042ac8>,\n",
       " <formas.Cuadrado at 0x7f7dac0427b8>,\n",
       " <formas.Cuadrado at 0x7f7dac0427f0>,\n",
       " <formas.Cuadrado at 0x7f7dac042860>,\n",
       " <formas.Cuadrado at 0x7f7dac042b38>,\n",
       " <formas.Cuadrado at 0x7f7dac042780>,\n",
       " <formas.Cuadrado at 0x7f7dac042898>]"
      ]
     },
     "execution_count": 6,
     "metadata": {},
     "output_type": "execute_result"
    }
   ],
   "source": [
    "import random\n",
    "\n",
    "cuadrados = [Cuadrado(random.random()) for i in range(10)]\n",
    "cuadrados"
   ]
  },
  {
   "cell_type": "code",
   "execution_count": 12,
   "metadata": {
    "collapsed": false
   },
   "outputs": [
    {
     "data": {
      "text/plain": [
       "0.8818449810501765"
      ]
     },
     "execution_count": 12,
     "metadata": {},
     "output_type": "execute_result"
    }
   ],
   "source": [
    "max(c.area()[0] for c in cuadrados)"
   ]
  },
  {
   "cell_type": "code",
   "execution_count": 13,
   "metadata": {
    "collapsed": false
   },
   "outputs": [
    {
     "data": {
      "text/plain": [
       "0.003958213865466944"
      ]
     },
     "execution_count": 13,
     "metadata": {},
     "output_type": "execute_result"
    }
   ],
   "source": [
    "min(c.area()[0] for c in cuadrados)"
   ]
  }
 ],
 "metadata": {
  "kernelspec": {
   "display_name": "Python 3",
   "language": "python",
   "name": "python3"
  },
  "language_info": {
   "codemirror_mode": {
    "name": "ipython",
    "version": 3
   },
   "file_extension": ".py",
   "mimetype": "text/x-python",
   "name": "python",
   "nbconvert_exporter": "python",
   "pygments_lexer": "ipython3",
   "version": "3.4.2"
  }
 },
 "nbformat": 4,
 "nbformat_minor": 1
}
