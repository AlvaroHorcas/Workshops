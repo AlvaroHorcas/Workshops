{
 "cells": [
  {
   "cell_type": "code",
   "execution_count": 1,
   "metadata": {
    "collapsed": true
   },
   "outputs": [],
   "source": [
    "import os\n",
    "file_handler = open('foo.txt', 'w')"
   ]
  },
  {
   "cell_type": "code",
   "execution_count": 2,
   "metadata": {
    "collapsed": true
   },
   "outputs": [],
   "source": [
    "file_handler.write('Some text')\n",
    "file_handler.write(os.linesep)\n",
    "file_handler.close()"
   ]
  },
  {
   "cell_type": "code",
   "execution_count": 3,
   "metadata": {
    "collapsed": false
   },
   "outputs": [
    {
     "name": "stdout",
     "output_type": "stream",
     "text": [
      "Some text\n",
      "\n"
     ]
    }
   ],
   "source": [
    "file_handler = open('foo.txt')\n",
    "for line in file_handler:\n",
    "    print(line)"
   ]
  },
  {
   "cell_type": "code",
   "execution_count": 4,
   "metadata": {
    "collapsed": false
   },
   "outputs": [
    {
     "name": "stdout",
     "output_type": "stream",
     "text": [
      "True\n",
      "foo.txt removed successfully\n"
     ]
    }
   ],
   "source": [
    "import os\n",
    "folder_contents = os.listdir(os.curdir)\n",
    "print('foo.txt' in folder_contents)\n",
    "\n",
    "if 'foo.txt' in os.listdir(os.curdir):\n",
    "    os.remove('foo.txt')\n",
    "    print('foo.txt removed successfully')\n",
    "else:\n",
    "    print('foo.txt not present')"
   ]
  },
  {
   "cell_type": "code",
   "execution_count": 5,
   "metadata": {
    "collapsed": false
   },
   "outputs": [
    {
     "ename": "FileNotFoundError",
     "evalue": "[Errno 2] No such file or directory: 'foo.txt'",
     "output_type": "error",
     "traceback": [
      "\u001b[0;31m---------------------------------------------------------------------------\u001b[0m",
      "\u001b[0;31mFileNotFoundError\u001b[0m                         Traceback (most recent call last)",
      "\u001b[0;32m<ipython-input-5-b466559a7089>\u001b[0m in \u001b[0;36m<module>\u001b[0;34m()\u001b[0m\n\u001b[0;32m----> 1\u001b[0;31m \u001b[0mf\u001b[0m \u001b[0;34m=\u001b[0m \u001b[0mopen\u001b[0m\u001b[0;34m(\u001b[0m\u001b[0;34m'foo.txt'\u001b[0m\u001b[0;34m)\u001b[0m\u001b[0;34m\u001b[0m\u001b[0m\n\u001b[0m",
      "\u001b[0;31mFileNotFoundError\u001b[0m: [Errno 2] No such file or directory: 'foo.txt'"
     ]
    }
   ],
   "source": [
    "f = open('foo.txt')"
   ]
  },
  {
   "cell_type": "code",
   "execution_count": 6,
   "metadata": {
    "collapsed": false
   },
   "outputs": [
    {
     "name": "stdout",
     "output_type": "stream",
     "text": [
      "[Error] Some exception happened\n",
      "[Errno 2] No such file or directory: 'foo.txt'\n"
     ]
    }
   ],
   "source": [
    "try:\n",
    "    f = open('foo.txt')\n",
    "except FileNotFoundError as e:\n",
    "    print('[Error] Some exception happened')\n",
    "    print(e)"
   ]
  },
  {
   "cell_type": "code",
   "execution_count": 7,
   "metadata": {
    "collapsed": false
   },
   "outputs": [
    {
     "name": "stdout",
     "output_type": "stream",
     "text": [
      "./data/pollution_data.csv\n"
     ]
    }
   ],
   "source": [
    "path = os.path.join(os.curdir, 'data', 'pollution_data.csv')\n",
    "print(path)"
   ]
  },
  {
   "cell_type": "code",
   "execution_count": 8,
   "metadata": {
    "collapsed": false
   },
   "outputs": [
    {
     "name": "stdout",
     "output_type": "stream",
     "text": [
      "\"Cuatro Caminos\" appeared 39508 times in 990225 lines\n"
     ]
    }
   ],
   "source": [
    "file_handler = open(path)\n",
    "\n",
    "counter = 0\n",
    "for line, content in enumerate(file_handler):\n",
    "    if 'Cuatro Caminos' in content:\n",
    "        counter += 1\n",
    "\n",
    "print('\"Cuatro Caminos\" appeared {} times in {} lines'.format(counter, line))\n",
    "\n",
    "file_handler.close()"
   ]
  },
  {
   "cell_type": "code",
   "execution_count": 9,
   "metadata": {
    "collapsed": false
   },
   "outputs": [
    {
     "name": "stdout",
     "output_type": "stream",
     "text": [
      "\"Manuel Becerra\" appeared 20324 times in 990225 lines\n"
     ]
    }
   ],
   "source": [
    "with open(path) as file_handler:\n",
    "    counter = 0\n",
    "    for line, content in enumerate(file_handler):\n",
    "        if \"Manuel Becerra\" in content:\n",
    "            counter += 1\n",
    "    \n",
    "    print('\"Manuel Becerra\" appeared {} times in {} lines'.format(counter, line))"
   ]
  },
  {
   "cell_type": "code",
   "execution_count": 40,
   "metadata": {
    "collapsed": false
   },
   "outputs": [
    {
     "name": "stdout",
     "output_type": "stream",
     "text": [
      "{\"c\": false, \"b\": 2, \"a\": 1}\n"
     ]
    }
   ],
   "source": [
    "import json\n",
    "data = dict(a= 1, b= 2, c= False)\n",
    "with open('test.json', 'w') as write_handler:\n",
    "    json.dump(data, write_handler)\n",
    "\n",
    "with open('test.json') as read_handler:\n",
    "    print(read_handler.read())"
   ]
  },
  {
   "cell_type": "code",
   "execution_count": 11,
   "metadata": {
    "collapsed": false
   },
   "outputs": [
    {
     "data": {
      "text/html": [
       "<div>\n",
       "<table border=\"1\" class=\"dataframe\">\n",
       "  <thead>\n",
       "    <tr style=\"text-align: right;\">\n",
       "      <th></th>\n",
       "      <th>Unnamed: 0</th>\n",
       "      <th>latitude</th>\n",
       "      <th>longitude</th>\n",
       "      <th>magnitude</th>\n",
       "      <th>measurement</th>\n",
       "      <th>station</th>\n",
       "      <th>technique</th>\n",
       "      <th>units</th>\n",
       "      <th>when</th>\n",
       "    </tr>\n",
       "  </thead>\n",
       "  <tbody>\n",
       "    <tr>\n",
       "      <th>0</th>\n",
       "      <td>0</td>\n",
       "      <td>40.421949</td>\n",
       "      <td>-3.692569</td>\n",
       "      <td>SO2</td>\n",
       "      <td>16.31</td>\n",
       "      <td>P. Recoletos</td>\n",
       "      <td>UV Fluorescence</td>\n",
       "      <td>µg/m3</td>\n",
       "      <td>2001-01-03</td>\n",
       "    </tr>\n",
       "    <tr>\n",
       "      <th>1</th>\n",
       "      <td>1</td>\n",
       "      <td>40.421949</td>\n",
       "      <td>-3.692569</td>\n",
       "      <td>SO2</td>\n",
       "      <td>17.04</td>\n",
       "      <td>P. Recoletos</td>\n",
       "      <td>UV Fluorescence</td>\n",
       "      <td>µg/m3</td>\n",
       "      <td>2001-01-04</td>\n",
       "    </tr>\n",
       "    <tr>\n",
       "      <th>2</th>\n",
       "      <td>2</td>\n",
       "      <td>40.421949</td>\n",
       "      <td>-3.692569</td>\n",
       "      <td>SO2</td>\n",
       "      <td>15.84</td>\n",
       "      <td>P. Recoletos</td>\n",
       "      <td>UV Fluorescence</td>\n",
       "      <td>µg/m3</td>\n",
       "      <td>2001-01-05</td>\n",
       "    </tr>\n",
       "    <tr>\n",
       "      <th>3</th>\n",
       "      <td>3</td>\n",
       "      <td>40.421949</td>\n",
       "      <td>-3.692569</td>\n",
       "      <td>SO2</td>\n",
       "      <td>15.49</td>\n",
       "      <td>P. Recoletos</td>\n",
       "      <td>UV Fluorescence</td>\n",
       "      <td>µg/m3</td>\n",
       "      <td>2001-01-06</td>\n",
       "    </tr>\n",
       "    <tr>\n",
       "      <th>4</th>\n",
       "      <td>4</td>\n",
       "      <td>40.421949</td>\n",
       "      <td>-3.692569</td>\n",
       "      <td>SO2</td>\n",
       "      <td>18.65</td>\n",
       "      <td>P. Recoletos</td>\n",
       "      <td>UV Fluorescence</td>\n",
       "      <td>µg/m3</td>\n",
       "      <td>2001-01-07</td>\n",
       "    </tr>\n",
       "  </tbody>\n",
       "</table>\n",
       "</div>"
      ],
      "text/plain": [
       "   Unnamed: 0   latitude  longitude magnitude  measurement       station  \\\n",
       "0           0  40.421949  -3.692569       SO2        16.31  P. Recoletos   \n",
       "1           1  40.421949  -3.692569       SO2        17.04  P. Recoletos   \n",
       "2           2  40.421949  -3.692569       SO2        15.84  P. Recoletos   \n",
       "3           3  40.421949  -3.692569       SO2        15.49  P. Recoletos   \n",
       "4           4  40.421949  -3.692569       SO2        18.65  P. Recoletos   \n",
       "\n",
       "         technique  units        when  \n",
       "0  UV Fluorescence  µg/m3  2001-01-03  \n",
       "1  UV Fluorescence  µg/m3  2001-01-04  \n",
       "2  UV Fluorescence  µg/m3  2001-01-05  \n",
       "3  UV Fluorescence  µg/m3  2001-01-06  \n",
       "4  UV Fluorescence  µg/m3  2001-01-07  "
      ]
     },
     "execution_count": 11,
     "metadata": {},
     "output_type": "execute_result"
    }
   ],
   "source": [
    "import pandas as pd\n",
    "pollution = pd.read_csv(path)\n",
    "pollution.head()"
   ]
  },
  {
   "cell_type": "code",
   "execution_count": 12,
   "metadata": {
    "collapsed": false
   },
   "outputs": [
    {
     "data": {
      "text/plain": [
       "0         40.421949\n",
       "1         40.421949\n",
       "2         40.421949\n",
       "3         40.421949\n",
       "4         40.421949\n",
       "5         40.421949\n",
       "6         40.421949\n",
       "7         40.421949\n",
       "8         40.421949\n",
       "9         40.421949\n",
       "10        40.421949\n",
       "11        40.421949\n",
       "12        40.421949\n",
       "13        40.421949\n",
       "14        40.421949\n",
       "15        40.421949\n",
       "16        40.421949\n",
       "17        40.421949\n",
       "18        40.421949\n",
       "19        40.421949\n",
       "20        40.421949\n",
       "21        40.421949\n",
       "22        40.421949\n",
       "23        40.421949\n",
       "24        40.421949\n",
       "25        40.421949\n",
       "26        40.421949\n",
       "27        40.421949\n",
       "28        40.421949\n",
       "29        40.421949\n",
       "            ...    \n",
       "990195    40.502153\n",
       "990196    40.502153\n",
       "990197    40.502153\n",
       "990198    40.502153\n",
       "990199    40.502153\n",
       "990200    40.502153\n",
       "990201    40.502153\n",
       "990202    40.502153\n",
       "990203    40.502153\n",
       "990204    40.502153\n",
       "990205    40.502153\n",
       "990206    40.502153\n",
       "990207    40.502153\n",
       "990208    40.502153\n",
       "990209    40.502153\n",
       "990210    40.502153\n",
       "990211    40.502153\n",
       "990212    40.502153\n",
       "990213    40.502153\n",
       "990214    40.502153\n",
       "990215    40.502153\n",
       "990216    40.502153\n",
       "990217    40.502153\n",
       "990218    40.502153\n",
       "990219    40.502153\n",
       "990220    40.502153\n",
       "990221    40.502153\n",
       "990222    40.502153\n",
       "990223    40.502153\n",
       "990224    40.502153\n",
       "Name: latitude, dtype: float64"
      ]
     },
     "execution_count": 12,
     "metadata": {},
     "output_type": "execute_result"
    }
   ],
   "source": [
    "pollution.latitude"
   ]
  },
  {
   "cell_type": "code",
   "execution_count": null,
   "metadata": {
    "collapsed": true
   },
   "outputs": [],
   "source": []
  }
 ],
 "metadata": {
  "kernelspec": {
   "display_name": "Python 3",
   "language": "python",
   "name": "python3"
  },
  "language_info": {
   "codemirror_mode": {
    "name": "ipython",
    "version": 3
   },
   "file_extension": ".py",
   "mimetype": "text/x-python",
   "name": "python",
   "nbconvert_exporter": "python",
   "pygments_lexer": "ipython3",
   "version": "3.4.2"
  }
 },
 "nbformat": 4,
 "nbformat_minor": 1
}
